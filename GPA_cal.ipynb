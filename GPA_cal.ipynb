{
 "cells": [
  {
   "cell_type": "code",
   "execution_count": 21,
   "metadata": {},
   "outputs": [],
   "source": [
    "import pandas as pd"
   ]
  },
  {
   "cell_type": "code",
   "execution_count": 22,
   "metadata": {},
   "outputs": [],
   "source": [
    "def level2num(x):\n",
    "    if x == '优':\n",
    "        return 95\n",
    "    elif x == '良':\n",
    "        return 85\n",
    "    else:\n",
    "        return x\n",
    "def num2gpa(x):\n",
    "    if x >= 90:\n",
    "        return 4\n",
    "    elif x >= 80 and x < 90:\n",
    "        return 3\n",
    "    elif x >= 70 and x < 80:\n",
    "        return 2\n",
    "    elif x >= 60 and x < 70:\n",
    "        return 1\n",
    "    else:\n",
    "        return 0"
   ]
  },
  {
   "cell_type": "code",
   "execution_count": 24,
   "metadata": {},
   "outputs": [
    {
     "data": {
      "text/plain": [
       "3.7651006711409396"
      ]
     },
     "execution_count": 24,
     "metadata": {},
     "output_type": "execute_result"
    }
   ],
   "source": [
    "df=pd.read_excel('绩点.xlsx')\n",
    "df=df.dropna()\n",
    "df['成绩']=df['成绩'].apply(level2num)\n",
    "df['gpa']=df['成绩'].apply(num2gpa)\n",
    "total_credit=df['学分'].sum()\n",
    "df['gpa_w']=df['gpa']*df['学分']\n",
    "gpa_mean=df['gpa_w'].sum()/total_credit\n",
    "gpa_mean"
   ]
  }
 ],
 "metadata": {
  "kernelspec": {
   "display_name": "Python 3.9.5 64-bit (system)",
   "language": "python",
   "name": "python3"
  },
  "language_info": {
   "codemirror_mode": {
    "name": "ipython",
    "version": 3
   },
   "file_extension": ".py",
   "mimetype": "text/x-python",
   "name": "python",
   "nbconvert_exporter": "python",
   "pygments_lexer": "ipython3",
   "version": "3.9.5"
  },
  "orig_nbformat": 4,
  "vscode": {
   "interpreter": {
    "hash": "48585e62c79f75331222c8706a708daafed7675c96ff349874529ae9109f1e9a"
   }
  }
 },
 "nbformat": 4,
 "nbformat_minor": 2
}
